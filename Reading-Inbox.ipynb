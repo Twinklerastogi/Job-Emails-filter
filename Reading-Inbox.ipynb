{
 "cells": [
  {
   "cell_type": "code",
   "execution_count": 7,
   "metadata": {
    "ExecuteTime": {
     "end_time": "2020-10-16T14:16:06.429656Z",
     "start_time": "2020-10-16T14:16:04.200204Z"
    }
   },
   "outputs": [],
   "source": [
    "# Import the required Libraries\n",
    "\n",
    "from googleapiclient.discovery import build \n",
    "from google_auth_oauthlib.flow import InstalledAppFlow \n",
    "from google.auth.transport.requests import Request \n",
    "import pickle, os.path, base64, email \n",
    "from bs4 import BeautifulSoup \n",
    "import pandas as pd\n",
    "from fuzzywuzzy import fuzz #pip install fuzzywuzzy"
   ]
  },
  {
   "cell_type": "code",
   "execution_count": 2,
   "metadata": {
    "ExecuteTime": {
     "end_time": "2020-10-16T14:17:05.796431Z",
     "start_time": "2020-10-16T14:16:06.434643Z"
    },
    "scrolled": true
   },
   "outputs": [
    {
     "name": "stdout",
     "output_type": "stream",
     "text": [
      "Please visit this URL to authorize this application: https://accounts.google.com/o/oauth2/auth?response_type=code&client_id=621011074468-ciou7u6tve0s33dtk0dal5sieo9htc6e.apps.googleusercontent.com&redirect_uri=http%3A%2F%2Flocalhost%3A57215%2F&scope=https%3A%2F%2Fwww.googleapis.com%2Fauth%2Fgmail.readonly&state=yIwzVwfXEXKYe8zGpHJM4TDm9mwkr5&access_type=offline\n"
     ]
    }
   ],
   "source": [
    "\n",
    "SCOPES = ['https://www.googleapis.com/auth/gmail.readonly'] \n",
    "  \n",
    "# Store the user access token \n",
    "# If no valid token found, we will create one. \n",
    "creds = None\n",
    "\n",
    "# The file token.pickle contains the user access token. \n",
    "# Check if it exists \n",
    "if os.path.exists('../token.pickle'): \n",
    "\n",
    "    # Read the token and store it in creds \n",
    "    with open('../token.pickle', 'rb') as token: \n",
    "        creds = pickle.load(token) \n",
    "\n",
    "# If credentials are not available or are invalid, ask the user to log in. \n",
    "if not creds or not creds.valid: \n",
    "    if creds and creds.expired and creds.refresh_token: \n",
    "        creds.refresh(Request()) \n",
    "    else: \n",
    "        flow = InstalledAppFlow.from_client_secrets_file('../credentials.json', SCOPES) \n",
    "        creds = flow.run_local_server(port=0) \n",
    "\n",
    "    # Save the access token in token.pickle file for the next run \n",
    "    with open('../token.pickle', 'wb') as token: \n",
    "        pickle.dump(creds, token) \n",
    "\n",
    "# Connect to the Gmail API \n",
    "service = build('gmail', 'v1', credentials=creds) \n",
    "\n",
    "# request a list of all the messages \n",
    "result = service.users().messages().list(userId='me').execute() \n",
    "\n",
    "# We can also pass maxResults to get any number of emails. \n",
    "messages = result.get('messages') \n",
    "\n",
    "inbox = {\n",
    "    'Subject': [], 'From': [], 'Message':[]\n",
    "}\n",
    "\n",
    "# iterate through all the messages \n",
    "for msg in messages: \n",
    "    # Get the message from its id \n",
    "    txt = service.users().messages().get(userId='me', id=msg['id']).execute() \n",
    "\n",
    "    # Use try-except to avoid any Errors \n",
    "    try: \n",
    "        # Get value of 'payload' from dictionary 'txt' \n",
    "        payload = txt['payload'] \n",
    "        headers = payload['headers'] \n",
    "\n",
    "        # Look for Subject and Sender Email in the headers \n",
    "        for d in headers: \n",
    "            if d['name'] == 'Subject': \n",
    "                subject = d['value'] \n",
    "            if d['name'] == 'From': \n",
    "                sender = d['value'] \n",
    "\n",
    "        # The Body of the message is in Encrypted format. So, we have to decode it. \n",
    "        parts = payload.get('parts')[0] \n",
    "        data = parts['body']['data'] \n",
    "        data = data.replace(\"-\",\"+\").replace(\"_\",\"/\") \n",
    "        decoded_data = base64.b64decode(data) \n",
    "\n",
    "        # Data obtained is in lxml. So, we will parse  \n",
    "        # it with BeautifulSoup library \n",
    "        soup = BeautifulSoup(decoded_data , \"lxml\") \n",
    "        body = soup.body() \n",
    "\n",
    "        # Storing the subject, sender's email and message \n",
    "        inbox['Subject'].append(subject)\n",
    "        inbox['From'].append(sender)\n",
    "        inbox['Message'].append(body)\n",
    "    except: \n",
    "        pass"
   ]
  },
  {
   "cell_type": "code",
   "execution_count": 6,
   "metadata": {
    "ExecuteTime": {
     "end_time": "2020-10-16T14:17:05.860265Z",
     "start_time": "2020-10-16T14:17:05.800425Z"
    }
   },
   "outputs": [
    {
     "data": {
      "text/html": [
       "<div>\n",
       "<style scoped>\n",
       "    .dataframe tbody tr th:only-of-type {\n",
       "        vertical-align: middle;\n",
       "    }\n",
       "\n",
       "    .dataframe tbody tr th {\n",
       "        vertical-align: top;\n",
       "    }\n",
       "\n",
       "    .dataframe thead th {\n",
       "        text-align: right;\n",
       "    }\n",
       "</style>\n",
       "<table border=\"1\" class=\"dataframe\">\n",
       "  <thead>\n",
       "    <tr style=\"text-align: right;\">\n",
       "      <th></th>\n",
       "      <th>Subject</th>\n",
       "      <th>From</th>\n",
       "      <th>Message</th>\n",
       "    </tr>\n",
       "  </thead>\n",
       "  <tbody>\n",
       "    <tr>\n",
       "      <th>75</th>\n",
       "      <td>I got placed last week in the campus interview...</td>\n",
       "      <td>Quora Digest &lt;digest-noreply@quora.com&gt;</td>\n",
       "      <td>[[Parisha's Digest\\r\\nYour Quora Digest\\r\\n\\r\\...</td>\n",
       "    </tr>\n",
       "    <tr>\n",
       "      <th>76</th>\n",
       "      <td>The Perfect Start to Your Data Science Career ...</td>\n",
       "      <td>Mayank &lt;connect@analyticsvidhya.com&gt;</td>\n",
       "      <td>[[[  ]( # )  \\r\\n\\r\\n \\r\\n[  ]( # )      \\r\\n\"...</td>\n",
       "    </tr>\n",
       "    <tr>\n",
       "      <th>77</th>\n",
       "      <td>Parisha, you have 68 friend requests</td>\n",
       "      <td>Facebook &lt;notification@facebookmail.com&gt;</td>\n",
       "      <td>[[========================================\\r\\n...</td>\n",
       "    </tr>\n",
       "    <tr>\n",
       "      <th>78</th>\n",
       "      <td>As a fresher how can I introduce myself for a ...</td>\n",
       "      <td>Quora Digest &lt;digest-noreply@quora.com&gt;</td>\n",
       "      <td>[[Parisha's Digest\\r\\nYour Quora Digest\\r\\n\\r\\...</td>\n",
       "    </tr>\n",
       "    <tr>\n",
       "      <th>79</th>\n",
       "      <td>50% off for you &amp; a friend</td>\n",
       "      <td>Coursera &lt;no-reply@t.mail.coursera.org&gt;</td>\n",
       "      <td>[[[  Refer-a-friend...   - Coursera -   ]\\r\\n,...</td>\n",
       "    </tr>\n",
       "  </tbody>\n",
       "</table>\n",
       "</div>"
      ],
      "text/plain": [
       "                                              Subject  \\\n",
       "75  I got placed last week in the campus interview...   \n",
       "76  The Perfect Start to Your Data Science Career ...   \n",
       "77               Parisha, you have 68 friend requests   \n",
       "78  As a fresher how can I introduce myself for a ...   \n",
       "79                         50% off for you & a friend   \n",
       "\n",
       "                                        From  \\\n",
       "75   Quora Digest <digest-noreply@quora.com>   \n",
       "76      Mayank <connect@analyticsvidhya.com>   \n",
       "77  Facebook <notification@facebookmail.com>   \n",
       "78   Quora Digest <digest-noreply@quora.com>   \n",
       "79   Coursera <no-reply@t.mail.coursera.org>   \n",
       "\n",
       "                                              Message  \n",
       "75  [[Parisha's Digest\\r\\nYour Quora Digest\\r\\n\\r\\...  \n",
       "76  [[[  ]( # )  \\r\\n\\r\\n \\r\\n[  ]( # )      \\r\\n\"...  \n",
       "77  [[========================================\\r\\n...  \n",
       "78  [[Parisha's Digest\\r\\nYour Quora Digest\\r\\n\\r\\...  \n",
       "79  [[[  Refer-a-friend...   - Coursera -   ]\\r\\n,...  "
      ]
     },
     "execution_count": 6,
     "metadata": {},
     "output_type": "execute_result"
    }
   ],
   "source": [
    "inbox = pd.DataFrame(inbox)\n",
    "inbox.tail()"
   ]
  },
  {
   "cell_type": "code",
   "execution_count": 4,
   "metadata": {
    "ExecuteTime": {
     "end_time": "2020-10-16T14:17:06.063500Z",
     "start_time": "2020-10-16T14:17:05.864255Z"
    }
   },
   "outputs": [
    {
     "data": {
      "text/html": [
       "<div>\n",
       "<style scoped>\n",
       "    .dataframe tbody tr th:only-of-type {\n",
       "        vertical-align: middle;\n",
       "    }\n",
       "\n",
       "    .dataframe tbody tr th {\n",
       "        vertical-align: top;\n",
       "    }\n",
       "\n",
       "    .dataframe thead th {\n",
       "        text-align: right;\n",
       "    }\n",
       "</style>\n",
       "<table border=\"1\" class=\"dataframe\">\n",
       "  <thead>\n",
       "    <tr style=\"text-align: right;\">\n",
       "      <th></th>\n",
       "      <th>Subject</th>\n",
       "      <th>From</th>\n",
       "      <th>Message</th>\n",
       "    </tr>\n",
       "  </thead>\n",
       "  <tbody>\n",
       "    <tr>\n",
       "      <th>1</th>\n",
       "      <td>Thankyou for applying</td>\n",
       "      <td>Sameeksha Vishnoi &lt;sameekshavishnoi3@gmail.com&gt;</td>\n",
       "      <td>[[Hi\\r\\n]]</td>\n",
       "    </tr>\n",
       "    <tr>\n",
       "      <th>2</th>\n",
       "      <td>Thanks for applying</td>\n",
       "      <td>Sameeksha Vishnoi &lt;sameekshavishnoi3@gmail.com&gt;</td>\n",
       "      <td>[[Hey\\r\\n]]</td>\n",
       "    </tr>\n",
       "    <tr>\n",
       "      <th>3</th>\n",
       "      <td>Thank u for applying</td>\n",
       "      <td>Twinkle Rastogi &lt;twinklerastogi1998@gmail.com&gt;</td>\n",
       "      <td>[[Y\\r\\n]]</td>\n",
       "    </tr>\n",
       "    <tr>\n",
       "      <th>4</th>\n",
       "      <td>Thanks for applying</td>\n",
       "      <td>Twinkle Rastogi &lt;twinklerastogi1998@gmail.com&gt;</td>\n",
       "      <td>[[Hi\\r\\n]]</td>\n",
       "    </tr>\n",
       "  </tbody>\n",
       "</table>\n",
       "</div>"
      ],
      "text/plain": [
       "                 Subject                                             From  \\\n",
       "1  Thankyou for applying  Sameeksha Vishnoi <sameekshavishnoi3@gmail.com>   \n",
       "2    Thanks for applying  Sameeksha Vishnoi <sameekshavishnoi3@gmail.com>   \n",
       "3   Thank u for applying   Twinkle Rastogi <twinklerastogi1998@gmail.com>   \n",
       "4    Thanks for applying   Twinkle Rastogi <twinklerastogi1998@gmail.com>   \n",
       "\n",
       "       Message  \n",
       "1   [[Hi\\r\\n]]  \n",
       "2  [[Hey\\r\\n]]  \n",
       "3    [[Y\\r\\n]]  \n",
       "4   [[Hi\\r\\n]]  "
      ]
     },
     "execution_count": 4,
     "metadata": {},
     "output_type": "execute_result"
    }
   ],
   "source": [
    "QUERY_TO_MATCH = 'Thank you for applying'\n",
    "\n",
    "inbox[inbox.Subject.apply(lambda x: fuzz.token_set_ratio(x.lower(), QUERY_TO_MATCH.lower())) > 80]"
   ]
  }
 ],
 "metadata": {
  "hide_input": false,
  "kernelspec": {
   "display_name": "Python 3",
   "language": "python",
   "name": "python3"
  },
  "language_info": {
   "codemirror_mode": {
    "name": "ipython",
    "version": 3
   },
   "file_extension": ".py",
   "mimetype": "text/x-python",
   "name": "python",
   "nbconvert_exporter": "python",
   "pygments_lexer": "ipython3",
   "version": "3.7.7"
  },
  "toc": {
   "base_numbering": 1,
   "nav_menu": {},
   "number_sections": true,
   "sideBar": true,
   "skip_h1_title": false,
   "title_cell": "Table of Contents",
   "title_sidebar": "Contents",
   "toc_cell": false,
   "toc_position": {},
   "toc_section_display": true,
   "toc_window_display": false
  },
  "varInspector": {
   "cols": {
    "lenName": 16,
    "lenType": 16,
    "lenVar": 40
   },
   "kernels_config": {
    "python": {
     "delete_cmd_postfix": "",
     "delete_cmd_prefix": "del ",
     "library": "var_list.py",
     "varRefreshCmd": "print(var_dic_list())"
    },
    "r": {
     "delete_cmd_postfix": ") ",
     "delete_cmd_prefix": "rm(",
     "library": "var_list.r",
     "varRefreshCmd": "cat(var_dic_list()) "
    }
   },
   "types_to_exclude": [
    "module",
    "function",
    "builtin_function_or_method",
    "instance",
    "_Feature"
   ],
   "window_display": false
  }
 },
 "nbformat": 4,
 "nbformat_minor": 4
}
